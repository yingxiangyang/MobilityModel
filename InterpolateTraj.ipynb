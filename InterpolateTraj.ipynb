{
 "cells": [
  {
   "cell_type": "code",
   "execution_count": 28,
   "metadata": {
    "collapsed": true
   },
   "outputs": [],
   "source": [
    "import random\n",
    "import math\n",
    "import numpy as np\n",
    "from math import radians, cos, sin, asin, sqrt"
   ]
  },
  {
   "cell_type": "code",
   "execution_count": 27,
   "metadata": {
    "collapsed": true
   },
   "outputs": [],
   "source": [
    "def haversine(lon1, lat1, lon2, lat2):\n",
    "    \"\"\"\n",
    "    Calculate the great circle distance between two points \n",
    "    on the earth (specified in decimal degrees)\n",
    "    \"\"\"\n",
    "    # convert decimal degrees to radians \n",
    "    lon1, lat1, lon2, lat2 = map(radians, [lon1, lat1, lon2, lat2])\n",
    "\n",
    "    # haversine formula \n",
    "    dlon = lon2 - lon1 \n",
    "    dlat = lat2 - lat1 \n",
    "    a = sin(dlat/2)**2 + cos(lat1) * cos(lat2) * sin(dlon/2)**2\n",
    "    c = 2 * asin(sqrt(a)) \n",
    "    r = 6371 # Radius of earth in kilometers. Use 3956 for miles\n",
    "    return c * r"
   ]
  },
  {
   "cell_type": "code",
   "execution_count": 26,
   "metadata": {
    "collapsed": true
   },
   "outputs": [],
   "source": [
    "def customPow(x):\n",
    "    return pow(x,-0.86)\n",
    "\n",
    "def genRankSelectionCDF(n):\n",
    "    rank_select_pdf=np.array(range(1,n+1))\n",
    "    rank_select_pdf=map(customPow,rank_select_pdf)\n",
    "    pdf_sum=sum(rank_select_pdf)\n",
    "    rank_select_pdf/=pdf_sum\n",
    "    rank_select_cdf=np.cumsum(rank_select_pdf)\n",
    "    return rank_select_cdf"
   ]
  },
  {
   "cell_type": "code",
   "execution_count": 76,
   "metadata": {
    "collapsed": false
   },
   "outputs": [],
   "source": [
    "rank_select_cdf=genRankSelectionCDF(100000)"
   ]
  },
  {
   "cell_type": "code",
   "execution_count": 109,
   "metadata": {
    "collapsed": false
   },
   "outputs": [],
   "source": [
    "#loc_pool contains the lon,lat of all the potential destinations\n",
    "#locs: locid, visit time, lon, lat, locid start with \n",
    "def findNextLoc(locs,curr_loc,loc_pool,rho,gamma,olon,olat,rank_select_cdf,min_dist):\n",
    "    visited_location=len(locs)\n",
    "    r_return_unconditioned = 0.6*(1-rho*pow(visited_location,gamma))\n",
    "    p_return=r_return_unconditioned/(r_return_unconditioned+rho*pow(visited_location,gamma))\n",
    "    if random.random()<p_return:\n",
    "        #return\n",
    "        visit_count_sum=0.0\n",
    "        for j in range(1,visited_location):\n",
    "            if curr_loc!=j:\n",
    "                visit_count_sum+=locs[j][1]\n",
    "        visit_cdf=[0]*visited_location\n",
    "        #if curr_loc!=0:\n",
    "            #visit_cdf[0]=0\n",
    "        for j in range(1,visited_location):\n",
    "            if curr_loc!=j:\n",
    "                visit_cdf[j]=visit_cdf[j-1]+locs[j][1]/visit_count_sum\n",
    "            else:\n",
    "                visit_cdf[j]=visit_cdf[j-1]\n",
    "        found_sign=0\n",
    "        while found_sign==0:\n",
    "            rand_num=random.random()\n",
    "            for j in range(visited_location):\n",
    "                if rand_num<visit_cdf[j] and j!=curr_loc:\n",
    "                    locs[j][1]+=1\n",
    "                    return j\n",
    "    #new location, choose from the loc pool using rank\n",
    "    n=len(loc_pool)\n",
    "    # a list of [dist,loc id]\n",
    "    dists= [[] for x in xrange(n)]\n",
    "    for i in range(n):\n",
    "        dists[i]=[haversine(loc_pool[i][0], loc_pool[i][1], olon, olat), i]\n",
    "    dists.sort()\n",
    "    \n",
    "    for i in range(n):\n",
    "        if dists[i][0]>min_dist:\n",
    "            begin_index=i\n",
    "            break\n",
    "    \n",
    "    find_sign=0\n",
    "    while find_sign==0:\n",
    "        rand_num=random.random()\n",
    "        for i in range(begin_index,n):\n",
    "            if rand_num<rank_select_cdf[i-begin_index]:\n",
    "                find_sign=1\n",
    "                locs.append([locs[-1][0]+1,1,loc_pool[dists[i][1]][0],loc_pool[dists[i][1]][1]])\n",
    "                if abs(loc_pool[dists[i][1]][0]+71.107221)<0.0001:\n",
    "                    print i, dists[i], locs[-1][0]\n",
    "                \n",
    "                return locs[-1][0]\n",
    "\n",
    "def loadLocPool():\n",
    "    f = open('OtherLocation.txt','r')\n",
    "    loc_pool = [[float(x.split(\" \")[1]), float(x.split(\" \")[0])] for x in f.readlines()]\n",
    "    return loc_pool\n",
    "\n",
    "#the input information locs is: locid, visit time, lon, lat, \n",
    "#parameters needed: b1, b2, start slot, end slot\n",
    "#home is locid 0, other location id starts at 1\n",
    "def interRec(locs,b1,b2,start_slot,end_slot,nw,rho,gamma,min_dist,loc_pool):\n",
    "    #load daily_activeness\n",
    "    f = open('DailyTrend.txt', 'r')\n",
    "    daily_activeness = map(float,f.readlines()[0].split(' '))\n",
    "    #load weekly_activeness\n",
    "    f = open('WeeklyTrend.txt', 'r')\n",
    "    weekly_activeness = map(float,f.readlines()[0].split(' '))\n",
    "    \n",
    "    slot_num=end_slot-start_slot+1\n",
    "    person_loc=[0]*slot_num\n",
    "    at_home=1\n",
    "    curr_loc=0\n",
    "    for i in range(slot_num):\n",
    "        curr_slot=start_slot+i\n",
    "        daily_slot=curr_slot%144\n",
    "        weekly_slot=(curr_slot/144)%7\n",
    "        if at_home:\n",
    "            pt=nw*daily_activeness[daily_slot]*weekly_activeness[weekly_slot]\n",
    "            #from home to other\n",
    "            if random.random()<pt:\n",
    "                at_home=0\n",
    "                #decide where to go\n",
    "                person_loc[i]=findNextLoc(locs,curr_loc,loc_pool,rho,gamma,locs[curr_loc][2],locs[curr_loc][3],rank_select_cdf,min_dist)\n",
    "                curr_loc=person_loc[i]\n",
    "            else:\n",
    "                #keep at home, record it\n",
    "                person_loc[i]=0\n",
    "                curr_loc=0\n",
    "        else:\n",
    "            #p_other_move=getOtherMovePr(daily_slot,weekly_slot,b1,nw)\n",
    "            p_other_move = b1*nw*daily_activeness[daily_slot]*weekly_activeness[weekly_slot];\n",
    "            if random.random()<p_other_move:\n",
    "                #move to home or another other\n",
    "                #p_other_home=getOtherMoveToHomePr(daily_slot,weekly_slot,b2,nw);\n",
    "                p_other_home=1-b2*nw*daily_activeness[daily_slot]*weekly_activeness[weekly_slot];\n",
    "                if random.random()<p_other_home:\n",
    "                    at_home=1\n",
    "                    person_loc[i]=0\n",
    "                    curr_loc=0\n",
    "                else:\n",
    "                    #other to other\n",
    "                    #decide where to go\n",
    "                    print len(locs),curr_loc\n",
    "                    person_loc[i]=findNextLoc(locs,curr_loc,loc_pool,rho,gamma,locs[curr_loc][2],locs[curr_loc][3],rank_select_cdf,min_dist)\n",
    "                    curr_loc=person_loc[i]\n",
    "            else:\n",
    "                #else keep at the current other place\n",
    "                person_loc[i]=curr_loc\n",
    "    return locs, person_loc\n",
    "        \n",
    "        "
   ]
  },
  {
   "cell_type": "code",
   "execution_count": 114,
   "metadata": {
    "collapsed": false
   },
   "outputs": [
    {
     "name": "stdout",
     "output_type": "stream",
     "text": [
      "8 7\n",
      "12 11\n",
      "15 13\n",
      "16 15\n",
      "18 8\n"
     ]
    }
   ],
   "source": [
    "f = open('SparseInput.txt', 'r')\n",
    "locs = [map(float,x.split(' ')) for x in f.readlines()]\n",
    "loc_pool = loadLocPool()\n",
    "for i in range(len(locs)):\n",
    "    locs[i][0] = int(locs[i][0])\n",
    "locs, person_loc = interRec(locs,4,23,200,6000,6,0.6,-0.21,0.6,loc_pool)"
   ]
  },
  {
   "cell_type": "code",
   "execution_count": 115,
   "metadata": {
    "collapsed": true
   },
   "outputs": [],
   "source": [
    "#process person_loc to be the same format as the matlab code\n",
    "loc_freq=[0]*100\n",
    "stays=[]\n",
    "for i in range(len(person_loc)):\n",
    "    if i==0 or person_loc[i]!=person_loc[i-1]:\n",
    "        #a new stay\n",
    "        loc_freq[person_loc[i]]+=1\n",
    "        day=int(i/144)\n",
    "        lat=locs[person_loc[i]][3]\n",
    "        lon=locs[person_loc[i]][2]\n",
    "        hour=(i%144)/6.0\n",
    "        visits=loc_freq[person_loc[i]]\n",
    "        stays.append([0,0,0,day,person_loc[i]+1,lat,lon,hour,visits])"
   ]
  },
  {
   "cell_type": "code",
   "execution_count": 116,
   "metadata": {
    "collapsed": false
   },
   "outputs": [
    {
     "data": {
      "text/plain": [
       "[[0, 0, 0, 0, 1, 42.394486, -71.121227, 0.0, 1],\n",
       " [0, 0, 0, 0, 2, 42.357804, -71.099643, 7.333333333333333, 1],\n",
       " [0, 0, 0, 0, 1, 42.394486, -71.121227, 8.833333333333334, 2],\n",
       " [0, 0, 0, 2, 5, 42.390594, -71.126292, 13.833333333333334, 1],\n",
       " [0, 0, 0, 3, 1, 42.394486, -71.121227, 2.5, 3],\n",
       " [0, 0, 0, 3, 6, 42.400874, -71.12296, 20.666666666666668, 1],\n",
       " [0, 0, 0, 4, 1, 42.394486, -71.121227, 4.0, 4],\n",
       " [0, 0, 0, 4, 5, 42.390594, -71.126292, 10.166666666666666, 2],\n",
       " [0, 0, 0, 5, 1, 42.394486, -71.121227, 9.5, 5],\n",
       " [0, 0, 0, 6, 7, 42.399899, -71.121728, 6.833333333333333, 1],\n",
       " [0, 0, 0, 7, 1, 42.394486, -71.121227, 1.0, 6],\n",
       " [0, 0, 0, 10, 8, 42.399627, -71.123717, 7.333333333333333, 1],\n",
       " [0, 0, 0, 10, 9, 42.398535, -71.140045, 23.0, 1],\n",
       " [0, 0, 0, 11, 1, 42.394486, -71.121227, 8.666666666666666, 7],\n",
       " [0, 0, 0, 11, 10, 42.399958, -71.121455, 21.5, 1],\n",
       " [0, 0, 0, 12, 1, 42.394486, -71.121227, 1.6666666666666667, 8],\n",
       " [0, 0, 0, 12, 11, 42.396284, -71.14143, 6.0, 1],\n",
       " [0, 0, 0, 12, 1, 42.394486, -71.121227, 9.666666666666666, 9],\n",
       " [0, 0, 0, 13, 12, 42.393442, -71.139144, 5.0, 1],\n",
       " [0, 0, 0, 14, 13, 42.388591, -71.142656, 3.1666666666666665, 1],\n",
       " [0, 0, 0, 14, 1, 42.394486, -71.121227, 9.166666666666666, 10],\n",
       " [0, 0, 0, 14, 11, 42.396284, -71.14143, 11.333333333333334, 2],\n",
       " [0, 0, 0, 14, 1, 42.394486, -71.121227, 12.333333333333334, 11],\n",
       " [0, 0, 0, 15, 14, 42.37632, -71.112152, 4.666666666666667, 1],\n",
       " [0, 0, 0, 16, 1, 42.394486, -71.121227, 4.166666666666667, 12],\n",
       " [0, 0, 0, 16, 15, 42.394434, -71.09565, 11.5, 1],\n",
       " [0, 0, 0, 16, 1, 42.394486, -71.121227, 13.333333333333334, 13],\n",
       " [0, 0, 0, 16, 14, 42.37632, -71.112152, 23.0, 2],\n",
       " [0, 0, 0, 17, 16, 42.39109, -71.085872, 4.166666666666667, 1],\n",
       " [0, 0, 0, 17, 17, 42.386435, -71.089569, 4.333333333333333, 1],\n",
       " [0, 0, 0, 18, 1, 42.394486, -71.121227, 4.166666666666667, 14],\n",
       " [0, 0, 0, 18, 18, 42.399817, -71.12236, 8.666666666666666, 1],\n",
       " [0, 0, 0, 18, 1, 42.394486, -71.121227, 8.833333333333334, 15],\n",
       " [0, 0, 0, 23, 9, 42.398535, -71.140045, 5.666666666666667, 2],\n",
       " [0, 0, 0, 23, 1, 42.394486, -71.121227, 6.0, 16],\n",
       " [0, 0, 0, 23, 5, 42.390594, -71.126292, 12.166666666666666, 3],\n",
       " [0, 0, 0, 23, 1, 42.394486, -71.121227, 16.666666666666668, 17],\n",
       " [0, 0, 0, 24, 11, 42.396284, -71.14143, 5.333333333333333, 3],\n",
       " [0, 0, 0, 24, 1, 42.394486, -71.121227, 8.166666666666666, 18],\n",
       " [0, 0, 0, 25, 2, 42.357804, -71.099643, 0.6666666666666666, 2],\n",
       " [0, 0, 0, 25, 1, 42.394486, -71.121227, 3.3333333333333335, 19],\n",
       " [0, 0, 0, 25, 9, 42.398535, -71.140045, 18.333333333333332, 3],\n",
       " [0, 0, 0, 26, 1, 42.394486, -71.121227, 6.333333333333333, 20],\n",
       " [0, 0, 0, 26, 16, 42.39109, -71.085872, 7.0, 2],\n",
       " [0, 0, 0, 26, 1, 42.394486, -71.121227, 9.833333333333334, 21],\n",
       " [0, 0, 0, 29, 9, 42.398535, -71.140045, 1.1666666666666667, 4],\n",
       " [0, 0, 0, 29, 10, 42.399958, -71.121455, 6.5, 2],\n",
       " [0, 0, 0, 29, 1, 42.394486, -71.121227, 12.833333333333334, 22],\n",
       " [0, 0, 0, 31, 5, 42.390594, -71.126292, 2.8333333333333335, 4],\n",
       " [0, 0, 0, 31, 1, 42.394486, -71.121227, 3.0, 23],\n",
       " [0, 0, 0, 31, 19, 42.40028, -71.118085, 11.5, 1],\n",
       " [0, 0, 0, 32, 1, 42.394486, -71.121227, 4.0, 24],\n",
       " [0, 0, 0, 32, 8, 42.399627, -71.123717, 7.333333333333333, 2],\n",
       " [0, 0, 0, 32, 1, 42.394486, -71.121227, 7.833333333333333, 25],\n",
       " [0, 0, 0, 32, 17, 42.386435, -71.089569, 10.333333333333334, 2],\n",
       " [0, 0, 0, 32, 1, 42.394486, -71.121227, 12.0, 26],\n",
       " [0, 0, 0, 35, 9, 42.398535, -71.140045, 12.666666666666666, 5],\n",
       " [0, 0, 0, 35, 1, 42.394486, -71.121227, 21.833333333333332, 27],\n",
       " [0, 0, 0, 37, 20, 42.400718, -71.12086, 6.666666666666667, 1],\n",
       " [0, 0, 0, 37, 1, 42.394486, -71.121227, 7.666666666666667, 28],\n",
       " [0, 0, 0, 38, 21, 42.401844, -71.131693, 10.333333333333334, 1],\n",
       " [0, 0, 0, 38, 1, 42.394486, -71.121227, 11.333333333333334, 29]]"
      ]
     },
     "execution_count": 116,
     "metadata": {},
     "output_type": "execute_result"
    }
   ],
   "source": [
    "stays"
   ]
  },
  {
   "cell_type": "code",
   "execution_count": 117,
   "metadata": {
    "collapsed": false
   },
   "outputs": [],
   "source": [
    "with open(\"SparseUser.txt\", \"w\") as text_file:\n",
    "    for stay in stays:\n",
    "        text_file.write(\"%d %d %d %d %d %f %f %f %d\\n\" % tuple(stay))"
   ]
  }
 ],
 "metadata": {
  "kernelspec": {
   "display_name": "Python 2",
   "language": "python",
   "name": "python2"
  },
  "language_info": {
   "codemirror_mode": {
    "name": "ipython",
    "version": 2
   },
   "file_extension": ".py",
   "mimetype": "text/x-python",
   "name": "python",
   "nbconvert_exporter": "python",
   "pygments_lexer": "ipython2",
   "version": "2.7.9"
  }
 },
 "nbformat": 4,
 "nbformat_minor": 0
}
